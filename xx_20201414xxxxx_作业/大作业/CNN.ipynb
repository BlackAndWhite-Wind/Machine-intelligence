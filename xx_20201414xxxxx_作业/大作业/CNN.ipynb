{
 "cells": [
  {
   "cell_type": "code",
   "execution_count": 37,
   "metadata": {
    "pycharm": {
     "is_executing": true
    }
   },
   "outputs": [],
   "source": [
    "import time\n",
    "import torch\n",
    "import torch.nn as nn\n",
    "import torch.nn.functional as f\n",
    "import torch.optim as optim\n",
    "import torchvision.transforms as transforms\n",
    "import matplotlib.pyplot as plt\n",
    "from torch.utils.data import DataLoader\n",
    "from torchvision.datasets import FashionMNIST\n",
    "from sklearn.metrics import confusion_matrix\n",
    "plt.rcParams['font.family'] = ['sans-serif']\n",
    "plt.rcParams['font.sans-serif'] = ['SimHei']"
   ]
  },
  {
   "cell_type": "code",
   "execution_count": 33,
   "metadata": {},
   "outputs": [
    {
     "name": "stdout",
     "output_type": "stream",
     "text": [
      "cuda\n"
     ]
    }
   ],
   "source": [
    "_batch_size = 64\n",
    "_learning_rate = 1e-4\n",
    "max_epochs = 30\n",
    "device = torch.device('cuda' if torch.cuda.is_available() else 'cpu')\n",
    "print(device)"
   ]
  },
  {
   "cell_type": "code",
   "execution_count": 18,
   "metadata": {},
   "outputs": [],
   "source": [
    "img_change = transforms.Compose(\n",
    "    [\n",
    "        transforms.ToTensor(),\n",
    "        transforms.Normalize((0.5,),(0.5,)),\n",
    "        transforms.RandomHorizontalFlip()\n",
    "    ]\n",
    ")\n",
    "\n",
    "train_data = FashionMNIST(root='data', train=True, transform=img_change, download=True)\n",
    "test_data = FashionMNIST(root='data', train=False, transform=img_change, download=True)\n",
    "\n",
    "train_data_loader = DataLoader(train_data, batch_size=_batch_size, shuffle=True)\n",
    "test_data_loader = DataLoader(test_data, batch_size=_batch_size, shuffle=False)"
   ]
  },
  {
   "cell_type": "code",
   "execution_count": 19,
   "metadata": {},
   "outputs": [],
   "source": [
    "class VGGNet(nn.Module):\n",
    "    def __init__(self):\n",
    "        super(VGGNet, self).__init__()\n",
    "        self.conv1 = nn.Conv2d(1, 64, 1, padding=1)\n",
    "        self.conv2 = nn.Conv2d(64, 64, 3, padding=1)\n",
    "        self.pool1 = nn.MaxPool2d(2, 2)\n",
    "        self.bn1 = nn.BatchNorm2d(64)\n",
    "        self.relu1 = nn.ReLU()\n",
    "\n",
    "        self.conv3 = nn.Conv2d(64, 128, 3, padding=1)\n",
    "        self.conv4 = nn.Conv2d(128, 128, 3, padding=1)\n",
    "        self.pool2 = nn.MaxPool2d(2, 2, padding=1)\n",
    "        self.bn2 = nn.BatchNorm2d(128)\n",
    "        self.relu2 = nn.ReLU()\n",
    "\n",
    "        self.fc5 = nn.Linear(128 * 8 * 8, 512)\n",
    "        self.drop1 = nn.Dropout2d()\n",
    "        self.fc6 = nn.Linear(512, 10)\n",
    "\n",
    "    def forward(self, x):\n",
    "        x = self.conv1(x)\n",
    "        x = self.conv2(x)\n",
    "        x = self.pool1(x)\n",
    "        x = self.bn1(x)\n",
    "        x = self.relu1(x)\n",
    "\n",
    "        x = self.conv3(x)\n",
    "        x = self.conv4(x)\n",
    "        x = self.pool2(x)\n",
    "        x = self.bn2(x)\n",
    "        x = self.relu2(x)\n",
    "\n",
    "        x = x.view(-1, 128 * 8 * 8)\n",
    "        x = f.relu(self.fc5(x))\n",
    "        x = self.drop1(x)\n",
    "        x = self.fc6(x)\n",
    "        \n",
    "        return x"
   ]
  },
  {
   "cell_type": "code",
   "execution_count": 20,
   "metadata": {},
   "outputs": [],
   "source": [
    "net = VGGNet().to(device)\n",
    "loss_function = nn.CrossEntropyLoss()\n",
    "optimizer = optim.Adam(net.parameters(), lr=_learning_rate)"
   ]
  },
  {
   "cell_type": "code",
   "execution_count": 21,
   "metadata": {},
   "outputs": [
    {
     "name": "stdout",
     "output_type": "stream",
     "text": [
      "Training and Testing ...\n",
      "\n"
     ]
    },
    {
     "name": "stderr",
     "output_type": "stream",
     "text": [
      "d:\\CodingSoftWare\\Anaconda3\\lib\\site-packages\\torch\\nn\\functional.py:1331: UserWarning: dropout2d: Received a 2-D input to dropout2d, which is deprecated and will result in an error in a future release. To retain the behavior and silence this warning, please use dropout instead. Note that dropout2d exists to provide channel-wise dropout on inputs with 2 spatial dimensions, a channel dimension, and an optional batch dimension (i.e. 3D or 4D inputs).\n",
      "  warnings.warn(warn_msg)\n"
     ]
    },
    {
     "name": "stdout",
     "output_type": "stream",
     "text": [
      "epoch: 1, loss 0.4245, train_acc: 0.849,  test_acc: 0.888,  test_loss: 0.306, time 93.9 sec\n",
      "cnn has saved\n",
      "\n",
      "epoch: 2, loss 0.2777, train_acc: 0.899,  test_acc: 0.900,  test_loss: 0.269, time 92.9 sec\n",
      "cnn has saved\n",
      "\n",
      "epoch: 3, loss 0.2371, train_acc: 0.913,  test_acc: 0.909,  test_loss: 0.251, time 95.5 sec\n",
      "cnn has saved\n",
      "\n",
      "epoch: 4, loss 0.2149, train_acc: 0.921,  test_acc: 0.912,  test_loss: 0.238, time 97.4 sec\n",
      "cnn has saved\n",
      "\n",
      "epoch: 5, loss 0.1953, train_acc: 0.929,  test_acc: 0.918,  test_loss: 0.230, time 96.6 sec\n",
      "cnn has saved\n",
      "\n",
      "epoch: 6, loss 0.1792, train_acc: 0.934,  test_acc: 0.919,  test_loss: 0.228, time 98.0 sec\n",
      "cnn has saved\n",
      "\n",
      "epoch: 7, loss 0.1654, train_acc: 0.939,  test_acc: 0.924,  test_loss: 0.213, time 99.6 sec\n",
      "cnn has saved\n",
      "\n",
      "epoch: 8, loss 0.1507, train_acc: 0.945,  test_acc: 0.924,  test_loss: 0.210, time 98.5 sec\n",
      "cnn has saved\n",
      "\n",
      "epoch: 9, loss 0.1387, train_acc: 0.948,  test_acc: 0.921,  test_loss: 0.222, time 98.7 sec\n",
      "epoch: 10, loss 0.1292, train_acc: 0.953,  test_acc: 0.925,  test_loss: 0.219, time 98.5 sec\n",
      "cnn has saved\n",
      "\n",
      "epoch: 11, loss 0.1191, train_acc: 0.956,  test_acc: 0.928,  test_loss: 0.207, time 97.6 sec\n",
      "cnn has saved\n",
      "\n",
      "epoch: 12, loss 0.1116, train_acc: 0.958,  test_acc: 0.928,  test_loss: 0.212, time 95.7 sec\n",
      "epoch: 13, loss 0.1018, train_acc: 0.962,  test_acc: 0.931,  test_loss: 0.210, time 95.6 sec\n",
      "cnn has saved\n",
      "\n",
      "epoch: 14, loss 0.0954, train_acc: 0.966,  test_acc: 0.930,  test_loss: 0.220, time 93.7 sec\n",
      "epoch: 15, loss 0.0896, train_acc: 0.967,  test_acc: 0.923,  test_loss: 0.240, time 96.0 sec\n",
      "epoch: 16, loss 0.0799, train_acc: 0.971,  test_acc: 0.930,  test_loss: 0.235, time 93.4 sec\n",
      "epoch: 17, loss 0.0748, train_acc: 0.973,  test_acc: 0.924,  test_loss: 0.252, time 93.5 sec\n",
      "epoch: 18, loss 0.0726, train_acc: 0.973,  test_acc: 0.930,  test_loss: 0.239, time 94.0 sec\n",
      "epoch: 19, loss 0.0641, train_acc: 0.977,  test_acc: 0.929,  test_loss: 0.238, time 93.1 sec\n",
      "epoch: 20, loss 0.0623, train_acc: 0.977,  test_acc: 0.930,  test_loss: 0.245, time 24.3 sec\n",
      "epoch: 21, loss 0.0540, train_acc: 0.981,  test_acc: 0.925,  test_loss: 0.264, time 23.9 sec\n",
      "epoch: 22, loss 0.0538, train_acc: 0.980,  test_acc: 0.931,  test_loss: 0.237, time 23.7 sec\n",
      "epoch: 23, loss 0.0499, train_acc: 0.983,  test_acc: 0.928,  test_loss: 0.252, time 23.7 sec\n",
      "epoch: 24, loss 0.0469, train_acc: 0.983,  test_acc: 0.931,  test_loss: 0.246, time 24.6 sec\n",
      "cnn has saved\n",
      "\n",
      "epoch: 25, loss 0.0451, train_acc: 0.984,  test_acc: 0.930,  test_loss: 0.273, time 24.2 sec\n",
      "epoch: 26, loss 0.0408, train_acc: 0.986,  test_acc: 0.931,  test_loss: 0.272, time 24.5 sec\n",
      "epoch: 27, loss 0.0371, train_acc: 0.986,  test_acc: 0.931,  test_loss: 0.277, time 24.7 sec\n",
      "epoch: 28, loss 0.0360, train_acc: 0.987,  test_acc: 0.928,  test_loss: 0.292, time 24.7 sec\n",
      "epoch: 29, loss 0.0359, train_acc: 0.987,  test_acc: 0.931,  test_loss: 0.289, time 24.7 sec\n",
      "cnn has saved\n",
      "\n",
      "epoch: 30, loss 0.0325, train_acc: 0.988,  test_acc: 0.930,  test_loss: 0.281, time 24.2 sec\n"
     ]
    }
   ],
   "source": [
    "# 为绘图、保存和输出做些数据准备\n",
    "train_epochs_loss = []\n",
    "train_acc = []\n",
    "test_epochs_loss = []\n",
    "test_acc = []\n",
    "best_acc = 0.0\n",
    "\n",
    "# training and testing\n",
    "print('Training and Testing ...\\n')\n",
    "for epoch in range(max_epochs):\n",
    "    net.train()  # 进入训练模式，养成习惯\n",
    "    train_l_sum, train_acc_sum, n, start = 0.0, 0.0, 0, time.time()\n",
    "    for step, (tr_x, tr_y) in enumerate(train_data_loader):\n",
    "        tr_x, tr_y = tr_x.to(device), tr_y.to(device)\n",
    "        output = net(tr_x)  # 网络训练好的输出\n",
    "        loss = loss_function(output, tr_y)  # 计算损失\n",
    "        optimizer.zero_grad()  # 梯度先置0\n",
    "        loss.backward()  # 根据损失函数后向传播，计算各参数的梯度\n",
    "        optimizer.step()  # 参数更新\n",
    "\n",
    "        train_l_sum += loss.item()  # 累计总损失\n",
    "        train_acc_sum += (output.argmax(\n",
    "            dim=1) == tr_y).sum().item()  # 累计预测正确的数目\n",
    "        n += tr_y.shape[0]\n",
    "\n",
    "    train_epochs_loss.append((train_l_sum / (step + 1)))\n",
    "    train_acc.append(train_acc_sum / n)\n",
    "\n",
    "    net.eval()  # 测试形态，不能忘\n",
    "    acc_sum, num, te_loss = 0.0, 0, 0.0\n",
    "    with torch.no_grad():  # 这一句也很重要，有时可以减少内存占用（具体原因未知）\n",
    "        for bat_idx, (X, y) in enumerate(test_data_loader):\n",
    "            te_out = net(X.to(device))\n",
    "            acc_sum += (te_out.argmax(dim=1) == y.to(device)).sum().item()\n",
    "            te_loss += loss_function(te_out, y.to(device)).item()\n",
    "            num += y.shape[0]\n",
    "    test_acc_epoch = acc_sum / num\n",
    "    test_loss = te_loss / (bat_idx + 1)\n",
    "    test_acc.append(test_acc_epoch)\n",
    "    # 打印训练和测试，查看本次epoch结果\n",
    "    print(\n",
    "        'epoch: %d, loss %.4f, train_acc: %.3f,  test_acc: %.3f,  test_loss: %.3f, time %.1f sec'\n",
    "        % (epoch + 1, train_l_sum / (step + 1), train_acc_sum / n,\n",
    "           test_acc_epoch, test_loss, time.time() - start))\n",
    "    test_epochs_loss.append(test_loss)\n",
    "\n",
    "    if test_acc_epoch > best_acc:\n",
    "        torch.save(net.state_dict(), 'cnn_params_best.pkl')\n",
    "        best_acc = test_acc_epoch\n",
    "        print('cnn has saved\\n')\n"
   ]
  },
  {
   "cell_type": "code",
   "execution_count": 35,
   "metadata": {},
   "outputs": [
    {
     "name": "stdout",
     "output_type": "stream",
     "text": [
      "Best Test Accuracy: 93.15%\n"
     ]
    }
   ],
   "source": [
    "print(\"Best Test Accuracy: {}%\".format(best_acc*100))"
   ]
  },
  {
   "cell_type": "code",
   "execution_count": 31,
   "metadata": {},
   "outputs": [
    {
     "data": {
      "image/png": "[encoded data removed]",
      "text/plain": [
       "<Figure size 432x288 with 1 Axes>"
      ]
     },
     "metadata": {
      "needs_background": "light"
     },
     "output_type": "display_data"
    }
   ],
   "source": [
    "plt.plot(train_acc[:],'-o',label=\"train_acc\")\n",
    "plt.plot(test_acc[:],'-o',label=\"test_acc\")\n",
    "plt.title('epochs_accuracy')\n",
    "plt.xlabel(\"训练次数\")\n",
    "plt.ylabel(\"准确率\")\n",
    "plt.legend()\n",
    "plt.savefig('epochs_acc.png')\n"
   ]
  },
  {
   "cell_type": "code",
   "execution_count": 32,
   "metadata": {},
   "outputs": [
    {
     "data": {
      "image/png": "[encoded data removed]",
      "text/plain": [
       "<Figure size 432x288 with 1 Axes>"
      ]
     },
     "metadata": {
      "needs_background": "light"
     },
     "output_type": "display_data"
    }
   ],
   "source": [
    "plt.plot(train_epochs_loss[:],'-o',label=\"train_loss\")\n",
    "plt.plot(test_epochs_loss[:],'-o',label=\"test_loss\")\n",
    "plt.title(\"epochs_loss\")\n",
    "plt.xlabel(\"训练次数\")\n",
    "plt.ylabel(\"损失值\")\n",
    "plt.legend()\n",
    "plt.savefig('epochs_loss.png')"
   ]
  },
  {
   "cell_type": "code",
   "execution_count": 38,
   "metadata": {},
   "outputs": [
    {
     "ename": "TypeError",
     "evalue": "confusion_matrix() missing 1 required positional argument: 'y_pred'",
     "output_type": "error",
     "traceback": [
      "\u001b[1;31m---------------------------------------------------------------------------\u001b[0m",
      "\u001b[1;31mTypeError\u001b[0m                                 Traceback (most recent call last)",
      "\u001b[1;32me:\\大三上\\数据分析的机器智能方法作业PPT\\xx_20201414xxxxx_作业\\大作业\\CNN.ipynb Cell 10\u001b[0m in \u001b[0;36m<cell line: 1>\u001b[1;34m()\u001b[0m\n\u001b[1;32m----> <a href='vscode-notebook-cell:/e%3A/%E5%A4%A7%E4%B8%89%E4%B8%8A/%E6%95%B0%E6%8D%AE%E5%88%86%E6%9E%90%E7%9A%84%E6%9C%BA%E5%99%A8%E6%99%BA%E8%83%BD%E6%96%B9%E6%B3%95%E4%BD%9C%E4%B8%9APPT/xx_20201414xxxxx_%E4%BD%9C%E4%B8%9A/%E5%A4%A7%E4%BD%9C%E4%B8%9A/CNN.ipynb#X16sZmlsZQ%3D%3D?line=0'>1</a>\u001b[0m confusion_matrix(test_data)\n",
      "\u001b[1;31mTypeError\u001b[0m: confusion_matrix() missing 1 required positional argument: 'y_pred'"
     ]
    }
   ],
   "source": [
    "confusion_matrix(test_data)"
   ]
  }
 ],
 "metadata": {
  "kernelspec": {
   "display_name": "Python 3.9.12 ('base')",
   "language": "python",
   "name": "python3"
  },
  "language_info": {
   "codemirror_mode": {
    "name": "ipython",
    "version": 3
   },
   "file_extension": ".py",
   "mimetype": "text/x-python",
   "name": "python",
   "nbconvert_exporter": "python",
   "pygments_lexer": "ipython3",
   "version": "3.9.12"
  },
  "orig_nbformat": 4,
  "vscode": {
   "interpreter": {
    "hash": "ffde22c7e3ab4ff93e377892df1322fd8c587e5b72d92c17c00ab05441ad7327"
   }
  }
 },
 "nbformat": 4,
 "nbformat_minor": 2
}
